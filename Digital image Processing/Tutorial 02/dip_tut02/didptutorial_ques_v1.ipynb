{
 "cells": [
  {
   "cell_type": "markdown",
   "id": "8e6c571c",
   "metadata": {},
   "source": [
    "# Convolution and Interpolation"
   ]
  },
  {
   "cell_type": "code",
   "execution_count": null,
   "id": "72c8ce5e",
   "metadata": {},
   "outputs": [],
   "source": [
    "import numpy as np\n",
    "import matplotlib.pyplot as plt\n",
    "import matplotlib.image as mpimage\n",
    "import scipy.ndimage\n",
    "from scipy import signal\n",
    "from scipy.signal.windows import lanczos\n",
    "\n",
    "\n",
    "def rgb2gray(rgb):\n",
    "    return np.dot(rgb[...,:3], [0.2989, 0.5870, 0.1140])\n",
    "\n",
    "def gkern(kernlen=11, std=3):\n",
    "    ax = np.linspace(-(kernlen - 1) / 2., (kernlen - 1) / 2., kernlen)\n",
    "    gkern1d = np.exp(-0.5 * np.square(ax) / np.square(std))\n",
    "    gkern2d = np.outer(gkern1d, gkern1d)\n",
    "    return gkern2d/gkern2d.sum()\n",
    "def lanczos_2d_h(length):\n",
    "    lanczos_1d = lanczos(9);\n",
    "    lanczos_filter_2D = np.outer(lanczos_1d, lanczos_1d)\n",
    "    lanczos_filter_2D = lanczos_filter_2D/lanczos_filter_2D.sum()\n",
    "    return lanczos_filter_2D"
   ]
  },
  {
   "cell_type": "markdown",
   "id": "dd4b499c",
   "metadata": {},
   "source": [
    "In the following cell, an RGB image is loaded and converted into a grayscale image to be used for the exercise."
   ]
  },
  {
   "cell_type": "code",
   "execution_count": null,
   "id": "56692c68",
   "metadata": {
    "scrolled": false
   },
   "outputs": [],
   "source": [
    "image = mpimage.imread('./baboon.tiff') # image 4.2.03 from https://sipi.usc.edu/database/database.php?volume=misc\n",
    "height = image.shape[0]\n",
    "width = image.shape[1]\n",
    "image_gray = rgb2gray(image).astype(int)\n",
    "fig = plt.figure()\n",
    "plt.imshow(image_gray, cmap=plt.get_cmap('gray'), vmin=0, vmax=255)"
   ]
  },
  {
   "attachments": {},
   "cell_type": "markdown",
   "id": "173adc91",
   "metadata": {},
   "source": [
    "Generate two averaging filter kernels of $n\\times n $ length, one with 8 connected neighborhood and another with 4 connected neighborhood. Apply this filter to the  (hint: use `scipy.ndimage.convolve`). Assess the difference between the filtered image and the original image."
   ]
  },
  {
   "cell_type": "code",
   "execution_count": null,
   "id": "4114d586",
   "metadata": {},
   "outputs": [],
   "source": [
    "#filter length\n",
    "n = 11 #(n is odd)\n",
    "\n",
    "# averaging filter with a nxn kernel with 8 connected neighbors \n",
    "avg_filter_8con =  #filter\n",
    "image_avgfilter_8con = #filtered image\n",
    "\n",
    "#averaging filter with nxn kernel with 4 connected neighbors\n",
    "avg_filter_4con = #filter\n",
    "image_avgfilter_4con = #filtered image\n",
    "\n",
    "#difference image\n",
    "diff_figure_8cn = image_avgfilter_8con - image_gray\n",
    "diff_figure_4cn = image_avgfilter_4con - image_gray\n",
    "\n",
    "#show figures\n",
    "fig = plt.figure()\n",
    "plt.imshow(image_avgfilter_8con, cmap=plt.get_cmap('gray'), vmin=0, vmax=255)\n",
    "fig = plt.figure()\n",
    "plt.imshow(image_avgfilter_4con, cmap=plt.get_cmap('gray'), vmin=0, vmax=255)\n",
    "fig = plt.figure()\n",
    "plt.imshow(diff_figure_8cn, cmap=plt.get_cmap('gray'), vmin=np.amin(diff_figure_8cn), vmax=np.amax(diff_figure_8cn))\n",
    "fig = plt.figure()\n",
    "plt.imshow(diff_figure_4cn, cmap=plt.get_cmap('gray'), vmin=np.amin(diff_figure_4cn), vmax=np.amax(diff_figure_4cn))"
   ]
  },
  {
   "attachments": {},
   "cell_type": "markdown",
   "id": "e0ad8353",
   "metadata": {},
   "source": [
    "Interpolation approximates intermediate samples between known samples while upscaling an image. A continuous bandpass signal sampled at a lower frequency than Nyquist rate would exhibit aliasing artifacts. To reduce the aliasing artifact, it is a common practice to apply lowpass filtering before applying decimation. In the following section, apply decimation with and without a lowpass filtering."
   ]
  },
  {
   "cell_type": "code",
   "execution_count": null,
   "id": "55dff3e7",
   "metadata": {},
   "outputs": [],
   "source": [
    "#subsampling, this is also used later as upscaling ratio for interpolation. This has to be an integer value.\n",
    "resize_ratio = 4\n",
    "\n",
    "#plain decimation\n",
    "image_downsampled2_wo_lowpass = \n",
    "\n",
    "#lowpass filtering with nxn averaging filter and decimation\n",
    "#filter length\n",
    "n = 3\n",
    "image_downsampled2_avgfilter = \n",
    "\n",
    "#lowpass filtering with nxn gaussian filter and decimation\n",
    "#filter length\n",
    "n = 11\n",
    "image_downsampled2_gaussfilter = \n",
    "\n",
    "#lowpass filtering with nxn lanczos filter and decimation\n",
    "#filter length\n",
    "n = 11\n",
    "image_downsampled2_lanczosfilter = \n",
    "\n",
    "\n",
    "diff_figure_avgfilter = image_downsampled2_avgfilter - image_downsampled2_wo_lowpass\n",
    "diff_figure_gaussfilter = image_downsampled2_gaussfilter - image_downsampled2_wo_lowpass\n",
    "diff_figure_lanczosfilter = image_downsampled2_lanczosfilter - image_downsampled2_wo_lowpass\n",
    "\n",
    "\n",
    "\n",
    "#figures\n",
    "fig = plt.figure()\n",
    "plt.imshow(image_downsampled2_wo_lowpass, cmap=plt.get_cmap('gray'), vmin=0, vmax=255)\n",
    "fig = plt.figure()\n",
    "plt.imshow(image_downsampled2_avgfilter, cmap=plt.get_cmap('gray'), vmin=0, vmax=255)\n",
    "fig = plt.figure()\n",
    "plt.imshow(image_downsampled2_gaussfilter, cmap=plt.get_cmap('gray'), vmin=0, vmax=255)\n",
    "fig = plt.figure()\n",
    "plt.imshow(image_downsampled2_lanczosfilter, cmap=plt.get_cmap('gray'), vmin=0, vmax=255)\n",
    "fig = plt.figure()\n",
    "plt.imshow(diff_figure_avgfilter, cmap=plt.get_cmap('gray'), vmin=np.amin(diff_figure_avgfilter), vmax=np.amax(diff_figure_avgfilter))\n",
    "fig = plt.figure()\n",
    "plt.imshow(diff_figure_gaussfilter, cmap=plt.get_cmap('gray'), vmin=np.amin(diff_figure_gaussfilter), vmax=np.amax(diff_figure_gaussfilter))\n",
    "fig = plt.figure()\n",
    "plt.imshow(diff_figure_lanczosfilter, cmap=plt.get_cmap('gray'), vmin=np.amin(diff_figure_lanczosfilter), vmax=np.amax(diff_figure_lanczosfilter))\n"
   ]
  },
  {
   "cell_type": "markdown",
   "id": "769ec0ae",
   "metadata": {},
   "source": [
    "Nearest-neighbor and bilinear interpolation techniques are introduces in the lectures. In the follwing cells write the code to implement these interpolation techniques. Run the cells below to assess the reconstruction quality for each techniques. For evaluation MSE (mean squared error) and PSNR (peak signal to noise ratio) are calculated. The difference image between the interpolated image and the original image is shown."
   ]
  },
  {
   "cell_type": "code",
   "execution_count": null,
   "id": "e38c2a01",
   "metadata": {},
   "outputs": [],
   "source": [
    "#set the downsampled image with lowpass filter to be used for interpolation\n",
    "image_downsampled2_lp = image_downsampled2_lanczosfilter\n",
    "scale = resize_ratio #upscaling ratio"
   ]
  },
  {
   "cell_type": "code",
   "execution_count": null,
   "id": "5dac0b25",
   "metadata": {
    "scrolled": false
   },
   "outputs": [],
   "source": [
    "# nearest neoghbor interpolation\n",
    "def interpolate_nearest_neighbor(image_in, scale):\n",
    "    #code for nearest neighbor\n",
    "wolowpass_nn = np.zeros((height, width))\n",
    "wolowpass_nn = interpolate_nearest_neighbor(image_downsampled2_wo_lowpass,scale)\n",
    "\n",
    "\n",
    "lowpass_nn = np.zeros((height, width))\n",
    "lowpass_nn = interpolate_nearest_neighbor(image_downsampled2_lp,scale)\n",
    "\n",
    "\n",
    "diff_figure_wolp = wolowpass_nn - image_gray\n",
    "diff_figure_lp = lowpass_nn - image_gray\n",
    "\n",
    "#mse and psnr\n",
    "nu_pixels = diff_figure_wolp.size\n",
    "mse_wolp = np.sum(np.square(diff_figure_wolp))/nu_pixels\n",
    "psnr_wolp = 10*np.log10((255*255)/mse_wolp)\n",
    "mse_lp = np.sum(np.square(diff_figure_lp))/nu_pixels\n",
    "psnr_lp = 10*np.log10((255*255)/mse_lp)\n",
    "\n",
    "#figures\n",
    "fig = plt.figure()\n",
    "ax1 = fig.add_subplot(1,2,1)\n",
    "ax1.imshow(wolowpass_nn, cmap=plt.get_cmap('gray'), vmin=0, vmax=255)\n",
    "ax1.title.set_text(\"Reconstructed Image without \\n initial low-pass filtering \\n MSE : {:.3f},\\n PSNR : {:.3f}\".format(mse_wolp,psnr_wolp))\n",
    "ax2 = fig.add_subplot(1,2,2)\n",
    "ax2.imshow(diff_figure_wolp, cmap=plt.get_cmap('gray'),vmin=np.amin(diff_figure_wolp), vmax=np.amax(diff_figure_wolp) )\n",
    "ax2.title.set_text(\"Difference image\")\n",
    "\n",
    "fig = plt.figure()\n",
    "ax1 = fig.add_subplot(1,2,1)\n",
    "ax1.imshow(lowpass_nn, cmap=plt.get_cmap('gray'), vmin=0, vmax=255)\n",
    "ax1.title.set_text(\"Reconstructed Image with \\n initial low-pass filtering \\n MSE : {:.3f},\\n PSNR : {:.3f}\".format(mse_lp,psnr_lp))\n",
    "ax2 = fig.add_subplot(1,2,2)\n",
    "ax2.imshow(diff_figure_lp, cmap=plt.get_cmap('gray'), vmin=np.amin(diff_figure_lp), vmax=np.amax(diff_figure_lp))\n",
    "ax2.title.set_text(\"Difference image\")"
   ]
  },
  {
   "cell_type": "code",
   "execution_count": null,
   "id": "85bc5edf",
   "metadata": {
    "scrolled": true
   },
   "outputs": [],
   "source": [
    "# bilinear interpolation\n",
    "def interpolate_bilinear(image_in, scale):\n",
    "    #code for bilinear interpolation\n",
    "\n",
    "# low passed downsampled\n",
    "out_bl_lp = interpolate_bilinear(image_downsampled2_lp, scale)\n",
    "\n",
    "# downsampled without low pass filtering\n",
    "out_bl_wlp = interpolate_bilinear(image_downsampled2_wo_lowpass, scale)\n",
    "\n",
    "diff_figure_bl_lp = out_bl_lp - image_gray\n",
    "diff_figure_bl_wlp = out_bl_wlp - image_gray\n",
    "\n",
    "\n",
    "#mse and psnr\n",
    "nu_pixels = diff_figure_bl_lp.size\n",
    "mse_bl_lp = np.sum(np.square(diff_figure_bl_lp))/nu_pixels\n",
    "psnr_bl_lp = 10*np.log10((255*255)/mse_bl_lp)\n",
    "\n",
    "nu_pixels = diff_figure_bl_wlp.size\n",
    "mse_bl_wlp = np.sum(np.square(diff_figure_bl_wlp))/nu_pixels\n",
    "psnr_bl_wlp = 10*np.log10((255*255)/mse_bl_wlp)\n",
    "\n",
    "\n",
    "#figures\n",
    "fig = plt.figure()\n",
    "ax1 = fig.add_subplot(1,2,1)\n",
    "ax1.imshow(out_bl_wlp, cmap=plt.get_cmap('gray'), vmin=0, vmax=255)\n",
    "ax1.title.set_text(\"Reconstructed Image without \\n initial low-pass filtering \\n MSE : {:.3f},\\n PSNR : {:.3f}\".format(mse_bl_wlp,psnr_bl_wlp))\n",
    "ax2 = fig.add_subplot(1,2,2)\n",
    "ax2.imshow(diff_figure_bl_wlp, cmap=plt.get_cmap('gray'), vmin=np.amin(diff_figure_bl_wlp), vmax=np.amax(diff_figure_bl_wlp))\n",
    "ax2.title.set_text(\"Difference image\")\n",
    "\n",
    "fig = plt.figure()\n",
    "ax1 = fig.add_subplot(1,2,1)\n",
    "ax1.imshow(out_bl_lp, cmap=plt.get_cmap('gray'), vmin=0, vmax=255)\n",
    "ax1.title.set_text(\"Reconstructed Image with \\n initial low-pass filtering \\n MSE : {:.3f},\\n PSNR : {:.3f}\".format(mse_bl_lp,psnr_bl_lp))\n",
    "ax2 = fig.add_subplot(1,2,2)\n",
    "ax2.imshow(diff_figure_bl_lp, cmap=plt.get_cmap('gray'), vmin=np.amin(diff_figure_bl_lp), vmax=np.amax(diff_figure_bl_lp))\n",
    "ax2.title.set_text(\"Difference image\")"
   ]
  },
  {
   "cell_type": "markdown",
   "id": "8fb922e4",
   "metadata": {},
   "source": [
    "The cubic convolution function is an approximation of the $\\mathrm{sinc}$ function by truncating its tail and enforcing the slope at the end to be zero to avoid a ripple effect. Implement cubic convolution interpolation in the following cell.\n",
    "\n",
    "A control parameter $a$ is used to tune the approximation. $a = -1$ generates a function with the same slope at $x=1$ as a $\\mathrm{sinc}$ function, whereas $a = -\\frac{1}{2}$ guarantees lower sampling and interpolation error than a nearest neighbor and linear interpolation for sufficiently sampled scenes. Vary $a$ and notice the impact of $a$ on the reconstruction quality."
   ]
  },
  {
   "cell_type": "code",
   "execution_count": null,
   "id": "23823cd8",
   "metadata": {
    "scrolled": true
   },
   "outputs": [],
   "source": [
    "def interpolate_cubic_convolution(image_in, scale,slope):\n",
    "     #code for cubic convolution\n",
    "\n",
    "# low passed downsample\n",
    "out_lp = interpolate_cubic_convolution(image_downsampled2_lp, scale, a)\n",
    "#out_lp = out_1[0:-1,0:-1]\n",
    "\n",
    "\n",
    "# without lowpass\n",
    "out_wlp = interpolate_cubic_convolution(image_downsampled2_wo_lowpass, scale, a)\n",
    "#out_wlp = out_1[0:-1,0:-1]\n",
    "\n",
    "\n",
    "diff_figure_cc_lp = out_lp - image_gray\n",
    "m1_lp = np.amin(diff_figure_cc_lp)\n",
    "m2_lp = np.amax(diff_figure_cc_lp)\n",
    "\n",
    "diff_figure_cc_wlp = out_wlp - image_gray\n",
    "m1_wlp = np.amin(diff_figure_cc_wlp)\n",
    "m2_wlp = np.amax(diff_figure_cc_wlp)\n",
    "\n",
    "\n",
    "#mse\n",
    "nu_pixels = diff_figure_cc_lp.size\n",
    "mse_cc_lp = np.sum(np.square(diff_figure_cc_lp))/nu_pixels\n",
    "psnr_cc_lp = 10*np.log10((255*255)/mse_cc_lp)\n",
    "\n",
    "nu_pixels = diff_figure_cc_wlp.size\n",
    "mse_cc_wlp = np.sum(np.square(diff_figure_cc_wlp))/nu_pixels\n",
    "psnr_cc_wlp = 10*np.log10((255*255)/mse_cc_wlp)\n",
    "\n",
    "#figures\n",
    "fig = plt.figure()\n",
    "ax1 = fig.add_subplot(1,2,1)\n",
    "ax1.imshow(out_wlp, cmap=plt.get_cmap('gray'), vmin=0, vmax=255)\n",
    "ax1.title.set_text(\"Reconstructed Image without \\n initial low-pass filtering \\n MSE : {:.3f},\\n PSNR : {:.3f}\".format(mse_cc_wlp,psnr_cc_wlp))\n",
    "ax2 = fig.add_subplot(1,2,2)\n",
    "ax2.imshow(diff_figure_cc_wlp, cmap=plt.get_cmap('gray'), vmin=m1_wlp, vmax=m2_wlp)\n",
    "ax2.title.set_text(\"Difference image\")\n",
    "\n",
    "fig = plt.figure()\n",
    "ax1 = fig.add_subplot(1,2,1)\n",
    "ax1.imshow(out_lp, cmap=plt.get_cmap('gray'), vmin=0, vmax=255)\n",
    "ax1.title.set_text(\"Reconstructed Image with \\n initial low-pass filtering \\n MSE : {:.3f},\\n PSNR : {:.3f}\".format(mse_cc_lp,psnr_cc_lp))\n",
    "ax2 = fig.add_subplot(1,2,2)\n",
    "ax2.imshow(diff_figure_cc_lp, cmap=plt.get_cmap('gray'), vmin=m1_lp, vmax=m2_lp)\n",
    "ax2.title.set_text(\"Difference image\")"
   ]
  },
  {
   "attachments": {},
   "cell_type": "markdown",
   "id": "c8f8f01c",
   "metadata": {},
   "source": [
    "Additional paper-work question: A commonly known general interpolation technique is called spline interpolation. $n^{\\text{th}}$ order spline basis function is derived by convolving zero-order hold (aka nearest neighbor) basis function. Derive the basis function of cubic spline (order 3). "
   ]
  }
 ],
 "metadata": {
  "kernelspec": {
   "display_name": "dip",
   "language": "python",
   "name": "python3"
  },
  "language_info": {
   "codemirror_mode": {
    "name": "ipython",
    "version": 3
   },
   "file_extension": ".py",
   "mimetype": "text/x-python",
   "name": "python",
   "nbconvert_exporter": "python",
   "pygments_lexer": "ipython3",
   "version": "3.8.16 (default, Mar  2 2023, 03:18:16) [MSC v.1916 64 bit (AMD64)]"
  },
  "vscode": {
   "interpreter": {
    "hash": "f75a1b9cb17a44b1a46c9fe1e63260ffcdcf36733019c1b5e2ff9236ac846e5a"
   }
  }
 },
 "nbformat": 4,
 "nbformat_minor": 5
}
